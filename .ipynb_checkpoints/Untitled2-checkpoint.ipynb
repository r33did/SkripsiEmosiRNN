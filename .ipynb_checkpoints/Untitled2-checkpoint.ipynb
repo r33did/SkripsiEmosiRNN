{
 "cells": [
  {
   "cell_type": "code",
   "execution_count": 15,
   "id": "00816299",
   "metadata": {},
   "outputs": [],
   "source": [
    "import pandas as pd\n",
    "import numpy as np\n",
    "import matplotlib.pyplot as plt\n",
    "import os\n",
    "import keras\n",
    "from keras.utils.vis_utils import plot_model\n",
    "from sklearn.cluster import KMeans\n",
    "from sklearn.preprocessing import MinMaxScaler"
   ]
  },
  {
   "cell_type": "code",
   "execution_count": 5,
   "id": "aff2b418",
   "metadata": {},
   "outputs": [
    {
     "name": "stdout",
     "output_type": "stream",
     "text": [
      "Model: \"sequential\"\n",
      "_________________________________________________________________\n",
      "Layer (type)                 Output Shape              Param #   \n",
      "=================================================================\n",
      "lstm (LSTM)                  (None, None, 8)           480       \n",
      "_________________________________________________________________\n",
      "lstm_1 (LSTM)                (None, 8)                 544       \n",
      "_________________________________________________________________\n",
      "dense (Dense)                (None, 4)                 36        \n",
      "=================================================================\n",
      "Total params: 1,060\n",
      "Trainable params: 1,060\n",
      "Non-trainable params: 0\n",
      "_________________________________________________________________\n"
     ]
    }
   ],
   "source": [
    "model = keras.models.load_model('iaps_real4')\n",
    "model.summary()"
   ]
  },
  {
   "cell_type": "code",
   "execution_count": 6,
   "id": "3069601b",
   "metadata": {},
   "outputs": [
    {
     "name": "stdout",
     "output_type": "stream",
     "text": [
      "6\n",
      "8\n",
      "32\n",
      "8\n",
      "8\n",
      "32\n",
      "8\n",
      "4\n"
     ]
    }
   ],
   "source": [
    "weights = model.get_weights()\n",
    "for i in range(0,8):\n",
    "#     print('---------------------------------------------------------------------------------------')\n",
    "#     print('                                   array '+str(i)+'                                     ')\n",
    "#     print('---------------------------------------------------------------------------------------')\n",
    "    print(len(weights[i]))"
   ]
  },
  {
   "cell_type": "code",
   "execution_count": 11,
   "id": "6b252078",
   "metadata": {},
   "outputs": [],
   "source": [
    "X = []\n",
    "y = []\n",
    "maindirs = 'IAPS1_extract'\n",
    "dirs = os.listdir(maindirs)\n",
    "emosi = ['NH','NL','PH','PL']\n",
    "df = pd.read_csv(maindirs+\"/\"+\"iaps2_extracted.csv\")\n",
    "d_t = df.drop('EMOSI',axis=1)\n",
    "label = pd.get_dummies(df['EMOSI'])\n",
    "data_len = int(len(d_t))\n",
    "for i in range (0,data_len):\n",
    "    temp = d_t.iloc[i]\n",
    "    temp_list = temp.values.tolist()\n",
    "    X.append(temp_list)\n",
    "for j in range(0,data_len):\n",
    "    temp1 = label.iloc[j]\n",
    "    temp1_list = temp1.values.tolist()\n",
    "    y.append(temp1_list)\n",
    "X = np.array(X)\n",
    "y = np.array(y)\n",
    "length = 760\n",
    "num_train = 502\n",
    "index = np.random.randint(0,length, size=length)\n",
    "train_X = X[index[0:num_train]]\n",
    "train_Y = y[index[0:num_train]]\n",
    "test_X = X[index[num_train:]]\n",
    "test_Y = y[index[num_train:]]\n",
    "# train_X = X[0:num_train]\n",
    "# train_Y = y[0:num_train]\n",
    "# test_X = X[num_train:]\n",
    "# test_Y = y[num_train:]\n",
    "train_X = np.reshape(train_X, (train_X.shape[0],1,train_X.shape[1]))\n",
    "test_X = np.reshape(test_X, (test_X.shape[0],1,test_X.shape[1]))"
   ]
  },
  {
   "cell_type": "code",
   "execution_count": 12,
   "id": "36fe2805",
   "metadata": {},
   "outputs": [
    {
     "data": {
      "text/html": [
       "<div>\n",
       "<style scoped>\n",
       "    .dataframe tbody tr th:only-of-type {\n",
       "        vertical-align: middle;\n",
       "    }\n",
       "\n",
       "    .dataframe tbody tr th {\n",
       "        vertical-align: top;\n",
       "    }\n",
       "\n",
       "    .dataframe thead th {\n",
       "        text-align: right;\n",
       "    }\n",
       "</style>\n",
       "<table border=\"1\" class=\"dataframe\">\n",
       "  <thead>\n",
       "    <tr style=\"text-align: right;\">\n",
       "      <th></th>\n",
       "      <th>STDEV1</th>\n",
       "      <th>AVG1</th>\n",
       "      <th>MDN1</th>\n",
       "      <th>STDEV2</th>\n",
       "      <th>AVG2</th>\n",
       "      <th>MDN2</th>\n",
       "      <th>EMOSI</th>\n",
       "    </tr>\n",
       "  </thead>\n",
       "  <tbody>\n",
       "    <tr>\n",
       "      <th>0</th>\n",
       "      <td>0.274235</td>\n",
       "      <td>0.435091</td>\n",
       "      <td>0.411078</td>\n",
       "      <td>0.381360</td>\n",
       "      <td>19.370845</td>\n",
       "      <td>19.301510</td>\n",
       "      <td>1</td>\n",
       "    </tr>\n",
       "    <tr>\n",
       "      <th>1</th>\n",
       "      <td>0.205296</td>\n",
       "      <td>0.336927</td>\n",
       "      <td>0.380968</td>\n",
       "      <td>0.838313</td>\n",
       "      <td>17.401810</td>\n",
       "      <td>17.578874</td>\n",
       "      <td>1</td>\n",
       "    </tr>\n",
       "    <tr>\n",
       "      <th>2</th>\n",
       "      <td>0.205906</td>\n",
       "      <td>0.549433</td>\n",
       "      <td>0.520395</td>\n",
       "      <td>0.414000</td>\n",
       "      <td>18.645362</td>\n",
       "      <td>18.730647</td>\n",
       "      <td>1</td>\n",
       "    </tr>\n",
       "    <tr>\n",
       "      <th>3</th>\n",
       "      <td>0.161017</td>\n",
       "      <td>0.616736</td>\n",
       "      <td>0.597410</td>\n",
       "      <td>0.335591</td>\n",
       "      <td>7.823313</td>\n",
       "      <td>7.931383</td>\n",
       "      <td>1</td>\n",
       "    </tr>\n",
       "    <tr>\n",
       "      <th>4</th>\n",
       "      <td>0.264598</td>\n",
       "      <td>0.363219</td>\n",
       "      <td>0.360230</td>\n",
       "      <td>0.978248</td>\n",
       "      <td>12.151850</td>\n",
       "      <td>12.286403</td>\n",
       "      <td>1</td>\n",
       "    </tr>\n",
       "  </tbody>\n",
       "</table>\n",
       "</div>"
      ],
      "text/plain": [
       "     STDEV1      AVG1      MDN1    STDEV2       AVG2       MDN2  EMOSI\n",
       "0  0.274235  0.435091  0.411078  0.381360  19.370845  19.301510      1\n",
       "1  0.205296  0.336927  0.380968  0.838313  17.401810  17.578874      1\n",
       "2  0.205906  0.549433  0.520395  0.414000  18.645362  18.730647      1\n",
       "3  0.161017  0.616736  0.597410  0.335591   7.823313   7.931383      1\n",
       "4  0.264598  0.363219  0.360230  0.978248  12.151850  12.286403      1"
      ]
     },
     "execution_count": 12,
     "metadata": {},
     "output_type": "execute_result"
    }
   ],
   "source": [
    "df.head()"
   ]
  },
  {
   "cell_type": "code",
   "execution_count": 41,
   "id": "20e3988c",
   "metadata": {},
   "outputs": [],
   "source": [
    "asu = np.array([])"
   ]
  },
  {
   "cell_type": "code",
   "execution_count": 43,
   "id": "70858c67",
   "metadata": {},
   "outputs": [],
   "source": [
    "length = len(df)\n",
    "for i in range(0,length):\n",
    "    asu = np.append(asu, df.iloc[i])"
   ]
  },
  {
   "cell_type": "code",
   "execution_count": 55,
   "id": "8e415e9c",
   "metadata": {},
   "outputs": [
    {
     "name": "stdout",
     "output_type": "stream",
     "text": [
      "[[ 0.27423523  0.43509133  0.41107785  0.38136022 19.3708455  19.30151011]\n",
      " [ 0.20529628  0.33692731  0.38096757  0.83831343 17.40181015 17.5788737 ]\n",
      " [ 0.20590605  0.5494333   0.52039537  0.4139998  18.6453618  18.73064732]\n",
      " ...\n",
      " [ 0.18860092  0.5218596   0.50241615 38.37591242 86.91961848 83.60833966]\n",
      " [ 0.31366321  0.27836033  0.17831597  0.43181846  0.96653491  0.94095904]\n",
      " [ 0.30999524  0.35429093  0.35610547  0.22410245  0.38152829  0.29113767]]\n"
     ]
    }
   ],
   "source": [
    "asu = np.array(d_t.iloc[:])\n",
    "print(asu)"
   ]
  },
  {
   "cell_type": "code",
   "execution_count": 57,
   "id": "720a5821",
   "metadata": {},
   "outputs": [
    {
     "name": "stdout",
     "output_type": "stream",
     "text": [
      "[[ 0.29335628  0.3759173   0.32083774  1.1274295   3.86348356  3.56465025]\n",
      " [ 0.24352653  0.47824451  0.43717564  7.99087656 62.82924379 66.616183  ]\n",
      " [ 0.27955576  0.40335829  0.33950346  3.23402839 16.40916435 16.13088129]\n",
      " [ 0.222435    0.46566447  0.46100099 35.86297881 76.97559987 87.38707364]\n",
      " [ 0.26442974  0.39280108  0.3778977  16.56907055 31.60515045 26.06091807]]\n"
     ]
    }
   ],
   "source": [
    "scaler = MinMaxScaler()\n",
    "scaler.fit_transform(asu)\n",
    "kmeans = KMeans(n_clusters = 5, random_state=123)\n",
    "kmeans.fit(asu)\n",
    "print(kmeans.cluster_centers_)\n",
    "df['EMOSI']=kmeans.labels_"
   ]
  },
  {
   "cell_type": "code",
   "execution_count": 60,
   "id": "1297c0a9",
   "metadata": {},
   "outputs": [
    {
     "ename": "SyntaxError",
     "evalue": "invalid character in identifier (<ipython-input-60-ebf8d66a98c3>, line 4)",
     "output_type": "error",
     "traceback": [
      "\u001b[1;36m  File \u001b[1;32m\"<ipython-input-60-ebf8d66a98c3>\"\u001b[1;36m, line \u001b[1;32m4\u001b[0m\n\u001b[1;33m    plt.title(“Hasil Klustering K-Means”)\u001b[0m\n\u001b[1;37m                   ^\u001b[0m\n\u001b[1;31mSyntaxError\u001b[0m\u001b[1;31m:\u001b[0m invalid character in identifier\n"
     ]
    }
   ],
   "source": [
    "output = plt.scatter(asu[:,0], asu[:,1], s = 100, c = df.EMOSI, marker = 'o', alpha = 1, )\n",
    "centers = kmeans.cluster_centers_\n",
    "plt.scatter(centers[:,0], centers[:,1], c='red', s=200, alpha=1 , marker='o');\n",
    "plt.title('Hasil Klustering K-Means')\n",
    "plt.colorbar (output)\n",
    "plt.show()"
   ]
  }
 ],
 "metadata": {
  "kernelspec": {
   "display_name": "Python 3",
   "language": "python",
   "name": "python3"
  },
  "language_info": {
   "codemirror_mode": {
    "name": "ipython",
    "version": 3
   },
   "file_extension": ".py",
   "mimetype": "text/x-python",
   "name": "python",
   "nbconvert_exporter": "python",
   "pygments_lexer": "ipython3",
   "version": "3.6.8"
  }
 },
 "nbformat": 4,
 "nbformat_minor": 5
}
