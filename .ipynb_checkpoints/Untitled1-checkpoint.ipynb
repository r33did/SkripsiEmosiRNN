{
 "cells": [
  {
   "cell_type": "code",
   "execution_count": 1,
   "id": "1c1e2e2a",
   "metadata": {},
   "outputs": [],
   "source": [
    "import os\n",
    "import numpy as np\n",
    "import pandas as pd\n",
    "from scipy import signal\n",
    "import matplotlib.pyplot as plt\n",
    "import keras\n",
    "from keras.utils import to_categorical\n",
    "from sklearn.metrics import confusion_matrix\n",
    "from sklearn.metrics import confusion_matrix,classification_report"
   ]
  },
  {
   "cell_type": "code",
   "execution_count": 2,
   "id": "b94a1636",
   "metadata": {},
   "outputs": [],
   "source": [
    "data1n = []\n",
    "data2n = []\n",
    "root_filter = 'Filtered'\n",
    "emosi = ['NH','NL','PH','PL']\n",
    "# pasien = ['adit','agus','amin','eka','hasna','riznop']\n",
    "pasien = ['adit','agus','amin','bagus','basith','eka','hanif','rizki']\n",
    "stdvn1 = []\n",
    "rrtn1 = []\n",
    "mdn1 = []\n",
    "stdvn2 = []\n",
    "rrtn2 = []\n",
    "mdn2 = []\n",
    "emosi_list = []\n",
    "count = 0\n",
    "root_extract = 'IAPS hari 1'\n",
    "rawdata = []\n",
    "pipi = []\n",
    "alis = []\n",
    "wkt = []\n",
    "count = 0\n",
    "header_list = ['Waktu','Pipi','Alis']\n",
    "data = []\n",
    "X = []\n",
    "y = []"
   ]
  },
  {
   "cell_type": "code",
   "execution_count": 3,
   "id": "c92d0758",
   "metadata": {},
   "outputs": [
    {
     "name": "stdout",
     "output_type": "stream",
     "text": [
      "Model: \"sequential\"\n",
      "_________________________________________________________________\n",
      "Layer (type)                 Output Shape              Param #   \n",
      "=================================================================\n",
      "lstm (LSTM)                  (None, None, 8)           480       \n",
      "_________________________________________________________________\n",
      "lstm_1 (LSTM)                (None, 8)                 544       \n",
      "_________________________________________________________________\n",
      "dense (Dense)                (None, 4)                 36        \n",
      "=================================================================\n",
      "Total params: 1,060\n",
      "Trainable params: 1,060\n",
      "Non-trainable params: 0\n",
      "_________________________________________________________________\n"
     ]
    }
   ],
   "source": [
    "keras.backend.clear_session()\n",
    "# model = create_model()\n",
    "# model = keras.models.load_model('iaps_real1')\n",
    "# model = keras.models.load_model('iaps_real2')\n",
    "# model = keras.models.load_model('iaps_real3')\n",
    "model = keras.models.load_model('iaps_real4')\n",
    "# model = keras.models.load_model('lstm_iaps100')\n",
    "model.summary()"
   ]
  },
  {
   "cell_type": "code",
   "execution_count": 20,
   "id": "d2f72347",
   "metadata": {},
   "outputs": [
    {
     "name": "stdout",
     "output_type": "stream",
     "text": [
      "(502, 1, 6)\n",
      "(258, 1, 6)\n"
     ]
    }
   ],
   "source": [
    "X = []\n",
    "y = []\n",
    "maindirs = 'IAPS1_extract'\n",
    "dirs = os.listdir(maindirs)\n",
    "emosi = ['NH','NL','PH','PL']\n",
    "df = pd.read_csv(maindirs+\"/\"+\"iaps2_extracted.csv\")\n",
    "d_t = df.drop('EMOSI',axis=1)\n",
    "label = pd.get_dummies(df['EMOSI'])\n",
    "data_len = int(len(d_t))\n",
    "for i in range (0,data_len):\n",
    "    temp = d_t.iloc[i]\n",
    "    temp_list = temp.values.tolist()\n",
    "    X.append(temp_list)\n",
    "for j in range(0,data_len):\n",
    "    temp1 = label.iloc[j]\n",
    "    temp1_list = temp1.values.tolist()\n",
    "    y.append(temp1_list)\n",
    "X = np.array(X)\n",
    "y = np.array(y)\n",
    "length = 760\n",
    "num_train = 502\n",
    "index = np.random.randint(0,length, size=length)\n",
    "train_X = X[index[0:num_train]]\n",
    "train_Y = y[index[0:num_train]]\n",
    "test_X = X[index[num_train:]]\n",
    "test_Y = y[index[num_train:]]\n",
    "train_X = np.reshape(train_X, (train_X.shape[0],1,train_X.shape[1]))\n",
    "test_X = np.reshape(test_X, (test_X.shape[0],1,test_X.shape[1]))\n",
    "print(train_X.shape)\n",
    "print(test_X.shape)"
   ]
  },
  {
   "cell_type": "code",
   "execution_count": 24,
   "id": "828fb483",
   "metadata": {},
   "outputs": [
    {
     "name": "stdout",
     "output_type": "stream",
     "text": [
      "NH,NL,PH,PL\n",
      "[[59  8  3  3]\n",
      " [ 0 56  1  3]\n",
      " [ 0 11 49  0]\n",
      " [ 1  8  1 55]]\n"
     ]
    },
    {
     "ename": "AxisError",
     "evalue": "axis 1 is out of bounds for array of dimension 1",
     "output_type": "error",
     "traceback": [
      "\u001b[1;31m---------------------------------------------------------------------------\u001b[0m",
      "\u001b[1;31mAxisError\u001b[0m                                 Traceback (most recent call last)",
      "\u001b[1;32m<ipython-input-24-e890fabb93ed>\u001b[0m in \u001b[0;36m<module>\u001b[1;34m\u001b[0m\n\u001b[0;32m      4\u001b[0m \u001b[0mprint\u001b[0m\u001b[1;33m(\u001b[0m\u001b[1;34m'NH,NL,PH,PL'\u001b[0m\u001b[1;33m)\u001b[0m\u001b[1;33m\u001b[0m\u001b[1;33m\u001b[0m\u001b[0m\n\u001b[0;32m      5\u001b[0m \u001b[0mprint\u001b[0m\u001b[1;33m(\u001b[0m\u001b[0mmatrix\u001b[0m\u001b[1;33m)\u001b[0m\u001b[1;33m\u001b[0m\u001b[1;33m\u001b[0m\u001b[0m\n\u001b[1;32m----> 6\u001b[1;33m \u001b[0mprint\u001b[0m\u001b[1;33m(\u001b[0m\u001b[0mclassification_report\u001b[0m\u001b[1;33m(\u001b[0m\u001b[0mtest_Y\u001b[0m\u001b[1;33m[\u001b[0m\u001b[1;36m10\u001b[0m\u001b[1;33m]\u001b[0m\u001b[1;33m.\u001b[0m\u001b[0margmax\u001b[0m\u001b[1;33m(\u001b[0m\u001b[0maxis\u001b[0m\u001b[1;33m=\u001b[0m\u001b[1;36m1\u001b[0m\u001b[1;33m)\u001b[0m\u001b[1;33m,\u001b[0m \u001b[0my_pred\u001b[0m\u001b[1;33m[\u001b[0m\u001b[1;36m10\u001b[0m\u001b[1;33m]\u001b[0m\u001b[1;33m.\u001b[0m\u001b[0margmax\u001b[0m\u001b[1;33m(\u001b[0m\u001b[0maxis\u001b[0m\u001b[1;33m=\u001b[0m\u001b[1;36m1\u001b[0m\u001b[1;33m)\u001b[0m\u001b[1;33m,\u001b[0m \u001b[0mdigits\u001b[0m\u001b[1;33m=\u001b[0m\u001b[1;36m3\u001b[0m\u001b[1;33m,\u001b[0m\u001b[0mtarget_names\u001b[0m\u001b[1;33m=\u001b[0m\u001b[0memosi\u001b[0m\u001b[1;33m)\u001b[0m\u001b[1;33m)\u001b[0m\u001b[1;33m\u001b[0m\u001b[1;33m\u001b[0m\u001b[0m\n\u001b[0m",
      "\u001b[1;31mAxisError\u001b[0m: axis 1 is out of bounds for array of dimension 1"
     ]
    }
   ],
   "source": [
    "y_pred = model.predict(test_X)\n",
    "matrix = confusion_matrix(test_Y.argmax(axis=1), y_pred.argmax(axis=1))\n",
    "# print(y_pred)\n",
    "print('NH,NL,PH,PL')\n",
    "print(matrix)\n",
    "print(classification_report(test_Y.argmax(axis=1), y_pred.argmax(axis=1), digits=3,target_names=emosi))"
   ]
  }
 ],
 "metadata": {
  "kernelspec": {
   "display_name": "Python 3",
   "language": "python",
   "name": "python3"
  },
  "language_info": {
   "codemirror_mode": {
    "name": "ipython",
    "version": 3
   },
   "file_extension": ".py",
   "mimetype": "text/x-python",
   "name": "python",
   "nbconvert_exporter": "python",
   "pygments_lexer": "ipython3",
   "version": "3.6.8"
  }
 },
 "nbformat": 4,
 "nbformat_minor": 5
}
