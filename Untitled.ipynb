{
 "cells": [
  {
   "cell_type": "code",
   "execution_count": 6,
   "id": "5201d9d4",
   "metadata": {},
   "outputs": [],
   "source": [
    "import pandas as pd\n",
    "import os\n",
    "import sys\n",
    "import tkinter as tk\n",
    "import numpy as np\n",
    "import serial as sr\n",
    "import time\n",
    "from matplotlib.backends.backend_tkagg import FigureCanvasTkAgg\n",
    "from matplotlib.figure import Figure\n",
    "import datetime\n",
    "import serial.tools.list_ports"
   ]
  },
  {
   "cell_type": "code",
   "execution_count": 7,
   "id": "c052b2fb",
   "metadata": {},
   "outputs": [],
   "source": [
    "pipi = []\n",
    "alis = []\n",
    "wkt = []\n",
    "count = 0\n",
    "d = 0\n",
    "e = 0\n",
    "header_list = ['Waktu','Pipi','Alis']\n",
    "def akuisisi():\n",
    "    p = list(serial.tools.list_ports.comports())\n",
    "    arduino = serial.Serial(p[0].device,baudrate=9600)\n",
    "    arduino.flushInput()\n",
    "    if not arduino.isOpen():\n",
    "        arduino.open()\n",
    "    global count\n",
    "    while True:\n",
    "        try:\n",
    "#             if count <= 1000:\n",
    "            data = arduino.readline()\n",
    "            b = data.decode(\"ISO-8859-1\").strip()\n",
    "            waktuReal = datetime.datetime.now()\n",
    "            waktu = waktuReal.strftime('%H:%M:%S.%f')[:-3]\n",
    "            c = b.split(',')\n",
    "            if sys.getsizeof(c[0])==56:\n",
    "                pipi.append(c[0])\n",
    "                alis.append(c[1])\n",
    "                wkt.append(waktu)\n",
    "                count+=1\n",
    "                print(count)\n",
    "#             if KeyboardInterrupt:\n",
    "#                 if count == 1000:\n",
    "#                 arduino.close()\n",
    "#                 print(\"Logging Data Selesai\")\n",
    "#                 count = 0\n",
    "#                 break\n",
    "        except KeyboardInterrupt:\n",
    "            print(\"Logging data selesai!\")\n",
    "            arduino.close()\n",
    "            count = 0\n",
    "            break\n",
    "def write():\n",
    "    root = 'benerincom'\n",
    "    d_t = list(zip(wkt,pipi,alis))\n",
    "    df = pd.DataFrame(d_t, columns=header_list)\n",
    "    nama_file = input(\"Masukkan nama file : \")\n",
    "    finaldirs = os.path.join(root,'%s.csv'%nama_file)\n",
    "    df.to_csv(finaldirs,header=header_list,mode='w+',index=False)\n",
    "    pipi.clear()\n",
    "    alis.clear()\n",
    "    wkt.clear()\n",
    "    count = 0\n",
    "    print(\"Logging data selesai !\")\n",
    "#     return df"
   ]
  },
  {
   "cell_type": "code",
   "execution_count": 2,
   "id": "8c3de4f5",
   "metadata": {},
   "outputs": [
    {
     "name": "stdout",
     "output_type": "stream",
     "text": [
      "nama klien = amin\n",
      "emosi klien = NH1\n",
      "IAPS2_filter/aminNH1.csv\n"
     ]
    }
   ],
   "source": [
    "root = 'IAPS2_filter'\n",
    "nama = input('nama klien = ')\n",
    "emosi = input('emosi klien = ')\n",
    "df = pd.read_csv(root+'/'+nama+emosi+'.csv')\n",
    "print(root+'/'+nama+emosi+'.csv')\n",
    "df = df.drop(\"Unnamed: 0\",axis=1)\n",
    "pp = df['Pipi']\n",
    "als = df['Alis']"
   ]
  },
  {
   "cell_type": "code",
   "execution_count": 8,
   "id": "56d8a49a",
   "metadata": {},
   "outputs": [
    {
     "data": {
      "text/plain": [
       "''"
      ]
     },
     "execution_count": 8,
     "metadata": {},
     "output_type": "execute_result"
    }
   ],
   "source": [
    "root=tk.Tk()\n",
    "root.title('Real Time Plot')\n",
    "root.configure(background = 'black')\n",
    "root.geometry('800x640')"
   ]
  },
  {
   "cell_type": "code",
   "execution_count": 9,
   "id": "71911f10",
   "metadata": {},
   "outputs": [],
   "source": [
    "fig = Figure();\n",
    "ax = fig.add_subplot(111)\n",
    "ax.set_title('EMG')\n",
    "ax.set_xlabel('Sample')\n",
    "ax.set_ylabel('Volt')\n",
    "ax.set_xlim(0,1000)\n",
    "ax.set_ylim(0,5)\n",
    "lines = ax.plot([],[])[0]"
   ]
  },
  {
   "cell_type": "code",
   "execution_count": 10,
   "id": "91d3f34e",
   "metadata": {},
   "outputs": [],
   "source": [
    "canvas = FigureCanvasTkAgg(fig,master=root)\n",
    "canvas.get_tk_widget().place(x=10,y=10,width=700,height=500)\n",
    "canvas.draw()"
   ]
  },
  {
   "cell_type": "code",
   "execution_count": 1,
   "id": "259c01c4",
   "metadata": {},
   "outputs": [
    {
     "ename": "NameError",
     "evalue": "name 'root' is not defined",
     "output_type": "error",
     "traceback": [
      "\u001b[1;31m---------------------------------------------------------------------------\u001b[0m",
      "\u001b[1;31mNameError\u001b[0m                                 Traceback (most recent call last)",
      "\u001b[1;32m<ipython-input-1-e1d06a588fdb>\u001b[0m in \u001b[0;36m<module>\u001b[1;34m\u001b[0m\n\u001b[1;32m----> 1\u001b[1;33m \u001b[0mroot\u001b[0m\u001b[1;33m.\u001b[0m\u001b[0mupdate\u001b[0m\u001b[1;33m(\u001b[0m\u001b[1;33m)\u001b[0m\u001b[1;33m\u001b[0m\u001b[1;33m\u001b[0m\u001b[0m\n\u001b[0m\u001b[0;32m      2\u001b[0m start = tk.Button(root,text='Start',font=('calibri',12),\n\u001b[0;32m      3\u001b[0m                  command=lambda: plot_start())\n\u001b[0;32m      4\u001b[0m \u001b[0mstart\u001b[0m\u001b[1;33m.\u001b[0m\u001b[0mplace\u001b[0m\u001b[1;33m(\u001b[0m\u001b[0mx\u001b[0m\u001b[1;33m=\u001b[0m\u001b[1;36m100\u001b[0m\u001b[1;33m,\u001b[0m\u001b[0my\u001b[0m\u001b[1;33m=\u001b[0m\u001b[1;36m500\u001b[0m\u001b[1;33m)\u001b[0m\u001b[1;33m\u001b[0m\u001b[1;33m\u001b[0m\u001b[0m\n\u001b[0;32m      5\u001b[0m \u001b[0mroot\u001b[0m\u001b[1;33m.\u001b[0m\u001b[0mupdate\u001b[0m\u001b[1;33m(\u001b[0m\u001b[1;33m)\u001b[0m\u001b[1;33m\u001b[0m\u001b[1;33m\u001b[0m\u001b[0m\n",
      "\u001b[1;31mNameError\u001b[0m: name 'root' is not defined"
     ]
    }
   ],
   "source": [
    "root.update()\n",
    "start = tk.Button(root,text='Start',font=('calibri',12),\n",
    "                 command=lambda: plot_start())\n",
    "start.place(x=100,y=500)\n",
    "root.update()\n",
    "stop = tk.Button(root,text='Stop',font=('calibri',12),\n",
    "                command=lambda: plot_stop())\n",
    "start.place(x=start.info()+start.winfo_reqwidth()+20,y=500)"
   ]
  }
 ],
 "metadata": {
  "kernelspec": {
   "display_name": "Python 3",
   "language": "python",
   "name": "python3"
  },
  "language_info": {
   "codemirror_mode": {
    "name": "ipython",
    "version": 3
   },
   "file_extension": ".py",
   "mimetype": "text/x-python",
   "name": "python",
   "nbconvert_exporter": "python",
   "pygments_lexer": "ipython3",
   "version": "3.6.8"
  }
 },
 "nbformat": 4,
 "nbformat_minor": 5
}
