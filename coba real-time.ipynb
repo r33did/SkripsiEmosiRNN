{
 "cells": [
  {
   "cell_type": "code",
   "execution_count": 24,
   "id": "13577e9b",
   "metadata": {},
   "outputs": [],
   "source": [
    "import keras\n",
    "import pandas as pd\n",
    "import numpy as np\n",
    "import h5py\n",
    "import os\n",
    "from sklearn.metrics import confusion_matrix,classification_report"
   ]
  },
  {
   "cell_type": "code",
   "execution_count": 54,
   "id": "78e3c3db",
   "metadata": {},
   "outputs": [],
   "source": [
    "# model = keras.models.load_model('model_lstm2')\n",
    "keras.backend.clear_session()\n",
    "model = keras.models.load_model('model_lstm2')"
   ]
  },
  {
   "cell_type": "code",
   "execution_count": 80,
   "id": "02f5cfbb",
   "metadata": {},
   "outputs": [
    {
     "ename": "TypeError",
     "evalue": "list indices must be integers or slices, not float",
     "output_type": "error",
     "traceback": [
      "\u001b[1;31m---------------------------------------------------------------------------\u001b[0m",
      "\u001b[1;31mTypeError\u001b[0m                                 Traceback (most recent call last)",
      "\u001b[1;32m<ipython-input-80-bc5284a16174>\u001b[0m in \u001b[0;36m<module>\u001b[1;34m\u001b[0m\n\u001b[0;32m     38\u001b[0m     \u001b[0my_pred\u001b[0m \u001b[1;33m=\u001b[0m \u001b[0mmodel\u001b[0m\u001b[1;33m.\u001b[0m\u001b[0mpredict\u001b[0m\u001b[1;33m(\u001b[0m\u001b[0mtest_X\u001b[0m\u001b[1;33m)\u001b[0m\u001b[1;33m\u001b[0m\u001b[1;33m\u001b[0m\u001b[0m\n\u001b[0;32m     39\u001b[0m \u001b[1;31m#     print(float(y_pred[i][0]))\u001b[0m\u001b[1;33m\u001b[0m\u001b[1;33m\u001b[0m\u001b[1;33m\u001b[0m\u001b[0m\n\u001b[1;32m---> 40\u001b[1;33m     \u001b[0mprint\u001b[0m\u001b[1;33m(\u001b[0m\u001b[0memosi\u001b[0m\u001b[1;33m[\u001b[0m\u001b[0mfloat\u001b[0m\u001b[1;33m(\u001b[0m\u001b[0my_pred\u001b[0m\u001b[1;33m[\u001b[0m\u001b[1;36m0\u001b[0m\u001b[1;33m]\u001b[0m\u001b[1;33m[\u001b[0m\u001b[1;36m0\u001b[0m\u001b[1;33m]\u001b[0m\u001b[1;33m)\u001b[0m\u001b[1;33m]\u001b[0m\u001b[1;33m)\u001b[0m\u001b[1;33m\u001b[0m\u001b[1;33m\u001b[0m\u001b[0m\n\u001b[0m\u001b[0;32m     41\u001b[0m \u001b[1;31m#     matrix = confusion_matrix(test_Y.argmax(axis=1), y_pred.argmax(axis=1))\u001b[0m\u001b[1;33m\u001b[0m\u001b[1;33m\u001b[0m\u001b[1;33m\u001b[0m\u001b[0m\n\u001b[0;32m     42\u001b[0m \u001b[1;31m#     print('kaget,marah,santai,senang')\u001b[0m\u001b[1;33m\u001b[0m\u001b[1;33m\u001b[0m\u001b[1;33m\u001b[0m\u001b[0m\n",
      "\u001b[1;31mTypeError\u001b[0m: list indices must be integers or slices, not float"
     ]
    }
   ],
   "source": [
    "X = []\n",
    "y = []\n",
    "emosi = ['kaget','marah','santai','senang']\n",
    "\n",
    "maindirs = 'Feature_extract'\n",
    "dirs = os.listdir(maindirs)\n",
    "emosi = ['kaget','marah','santai','senang']\n",
    "df = pd.read_csv(maindirs+\"/\"+\"tes_extracted.csv\")\n",
    "label = pd.get_dummies(df['EMOSI'])\n",
    "d_t = df.drop('EMOSI',axis=1)\n",
    "\n",
    "data_len = int(len(d_t))\n",
    "\n",
    "for i in range (0,data_len):\n",
    "    temp = d_t.iloc[i]\n",
    "    temp_list = temp.values.tolist()\n",
    "    X.append(temp_list)\n",
    "for j in range(0,data_len):\n",
    "    temp1 = label.iloc[j]\n",
    "    temp1_list = temp1.values.tolist()\n",
    "    y.append(temp1_list)\n",
    "    \n",
    "X = np.array(X)\n",
    "y = np.array(y)\n",
    "for i in range(1,160):\n",
    "    length = 160\n",
    "    num_train = 0\n",
    "#     index = np.random.randint(0,length, size=length)\n",
    "    train_X = X[index[0:num_train]]\n",
    "    train_Y = y[index[0:num_train]]\n",
    "    test_X = X[index[num_train:]]\n",
    "    test_Y = y[index[num_train:]]\n",
    "#     test_X = X[num_train:]\n",
    "#     test_Y = y[num_train:]\n",
    "    train_X = np.reshape(train_X, (train_X.shape[0],1,train_X.shape[1]))\n",
    "    test_X = np.reshape(test_X, (test_X.shape[0],1,test_X.shape[1]))\n",
    "\n",
    "    y_pred = model.predict(test_X)\n",
    "#     print(float(y_pred[i][0]))\n",
    "    print(emosi[(y_pred[0][0])])\n",
    "#     matrix = confusion_matrix(test_Y.argmax(axis=1), y_pred.argmax(axis=1))\n",
    "#     print('kaget,marah,santai,senang')\n",
    "#     print(matrix)\n",
    "#     print(classification_report(test_Y.argmax(axis=1), y_pred.argmax(axis=1), digits=3,target_names=emosi))"
   ]
  }
 ],
 "metadata": {
  "kernelspec": {
   "display_name": "Python 3",
   "language": "python",
   "name": "python3"
  },
  "language_info": {
   "codemirror_mode": {
    "name": "ipython",
    "version": 3
   },
   "file_extension": ".py",
   "mimetype": "text/x-python",
   "name": "python",
   "nbconvert_exporter": "python",
   "pygments_lexer": "ipython3",
   "version": "3.6.8"
  }
 },
 "nbformat": 4,
 "nbformat_minor": 5
}
