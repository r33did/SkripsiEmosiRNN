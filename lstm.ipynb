import serial
import pandas as pd
import datetime as time
import matplotlib.pyplot as plt
from scipy import signal
data1n = []
data2n = []
rawdata = []
pipi = []
alis = []
wkt = []
count = 0
header_list = ['Waktu','Pipi',"Alis"]
p = list(serial.tools.list_ports.comports())
arduino = serial.Serial(p[0].device,timeout=1,baudrate=9600)
arduino.flushInput()

while True:
    try:
        if count == 1000:
            rawdata.append(str(arduino.readline()))
            b = rawdata.decode('ISO-8859-1').strip()
            waktuReal = time.now()
            waktu = waktuReal.strftime('%H:%M:%S.%f')[:-3]
            c = b.split(',')
            pipi.append(c[0])
            alis.append(c[1])
            wkt.append(waktu)
            count+=1
            print(count)
    except KeyboardInterrupt:
        print("Keyboard Interrupt")
        break
    print("Logging Data Selesai")

def write():
    d_t = list(zip(wkt,pipi,alis))
    df = pd.DataFrame(d_t, columns=header_list)
    nama_file = input("Masukkan nama file : ")
    df.to_csv('%s.csv'%nama_file,header=header_list,mode='w+')
    return df
write()

# ---------------------------EOL--------------------------
def lowpass_filter(sinyal,fcl):
    sampleRate = int(input('Masukkan freq sample rate (Hz) = ')
    wnl = fcl/(sampleRate)
    b,a = signal.butter(3,wnl,'lowpass')
    fil = signal.filtfilt(b, a, sinyal)
    return fil

if __name__ = "__main__":
    import matplotlib.pyplot as plt

baca = input('Masukkan nama file yang akan difilter : ')
df1 = pd.read_csv('E:\Kuliah\Tugas Akhir\Test\%s'%baca)
wk = df1["Waktu"]
pp = df1['Pipi']
al = df1['Alis']
wkt = list(wk)
data1 = list(pp)
data2 = list(al)

t = [i for i in range(len(data1))]
w = lowpass_filter(data1,2.0)
x = lowpass_filter(data2,2.0)

mn1 = min(w)
mx1 = max(w)
mn2 = min(x)
mx2 = max(x)

for i in range(len(w)):
    data1n.append((w[i]-mn1)/(mx1-mn1))
    data2n.append((x[i]-mn1)/(mx1-mn1))

plt.plot(t,data1n)
plt.plot(t,data2n)
plt.show()

d_t1 = list(zip(wkt,data1n,data2n))
df2 = pd.DataFrame(d_t1,columns=['Waktu','Pipi','Alis'])
df2.to_csv('%s_filtered'%baca)