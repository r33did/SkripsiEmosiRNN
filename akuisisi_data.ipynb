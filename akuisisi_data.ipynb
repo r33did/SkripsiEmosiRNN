{
 "metadata": {
  "language_info": {
   "codemirror_mode": {
    "name": "ipython",
    "version": 3
   },
   "file_extension": ".py",
   "mimetype": "text/x-python",
   "name": "python",
   "nbconvert_exporter": "python",
   "pygments_lexer": "ipython3",
   "version": "3.8.3-final"
  },
  "orig_nbformat": 2,
  "kernelspec": {
   "name": "python3",
   "display_name": "Python 3",
   "language": "python"
  }
 },
 "nbformat": 4,
 "nbformat_minor": 2,
 "cells": [
  {
   "cell_type": "code",
   "execution_count": 13,
   "metadata": {},
   "outputs": [],
   "source": [
    "# akuisisi_data.py\n",
    "\n",
    "import serial\n",
    "import pandas as pd\n",
    "from datetime import datetime\n",
    "import serial.tools.list_ports as listPorts\n",
    "\n",
    "waktuReal = []\n",
    "emgFrontalis = []\n",
    "emgCorrugator = []\n",
    "\n",
    "p = list(listPorts.comports())\n",
    "    # baca serial arduino, serial.Serial(port,baudrate)\n",
    "# arduino = serial.Serial()\n",
    "\n",
    "# baca serial arduino\n",
    "def baca():\n",
    "    arduinoData = arduino.readline()\n",
    "    # Encode UTF 8 jadi ASCII format ISO-8859-1\n",
    "    dataUTF8 = arduinoData.decode(\"ISO-8859-1\").strip()\n",
    "    data = dataUTF8.split(',')\n",
    "    dataFrontalis = int(data[0])/1023*5\n",
    "    dataCorrugator = int(data[1])/1023*5\n",
    "    emgFrontalis.append(dataFrontalis)\n",
    "    emgCorrugator.append(dataCorrugator)\n",
    "    # strftime(): %Y = year, %m = month, %d = day, ///\n",
    "    # %H:%M:%S = hour:minute:second\n",
    "    realTime = datetime.now()\n",
    "    realTimestr = realTime.strftime(\"%H:%M:%S.%f\")\n",
    "    waktuReal.append(realTimestr)\n",
    "    return waktuReal, emgFrontalis, emgCorrugator\n",
    "\n",
    "def archive():\n",
    "    d_t = list(zip(waktuReal,emgFrontalis,emgCorrugator))\n",
    "    dataFrame = pd.DataFrame(d_t, columns=['Waktu','Pipi','Alis'])\n",
    "    nama_file = input('Masukakan nama file: ')\n",
    "    dataFrame.to_csv('%s.csv'%nama_file)\n",
    "    return dataFrame"
   ]
  },
  {
   "cell_type": "code",
   "execution_count": null,
   "metadata": {},
   "outputs": [],
   "source": []
  }
 ]
}