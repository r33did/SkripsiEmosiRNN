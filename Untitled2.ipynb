{
 "cells": [
  {
   "cell_type": "code",
   "execution_count": 15,
   "id": "00816299",
   "metadata": {},
   "outputs": [],
   "source": [
    "import pandas as pd\n",
    "import numpy as np\n",
    "import matplotlib.pyplot as plt\n",
    "import os\n",
    "import keras\n",
    "from keras.utils.vis_utils import plot_model\n",
    "from sklearn.cluster import KMeans\n",
    "from sklearn.preprocessing import MinMaxScaler"
   ]
  },
  {
   "cell_type": "code",
   "execution_count": 5,
   "id": "aff2b418",
   "metadata": {},
   "outputs": [
    {
     "name": "stdout",
     "output_type": "stream",
     "text": [
      "Model: \"sequential\"\n",
      "_________________________________________________________________\n",
      "Layer (type)                 Output Shape              Param #   \n",
      "=================================================================\n",
      "lstm (LSTM)                  (None, None, 8)           480       \n",
      "_________________________________________________________________\n",
      "lstm_1 (LSTM)                (None, 8)                 544       \n",
      "_________________________________________________________________\n",
      "dense (Dense)                (None, 4)                 36        \n",
      "=================================================================\n",
      "Total params: 1,060\n",
      "Trainable params: 1,060\n",
      "Non-trainable params: 0\n",
      "_________________________________________________________________\n"
     ]
    }
   ],
   "source": [
    "model = keras.models.load_model('iaps_real4')\n",
    "model.summary()"
   ]
  },
  {
   "cell_type": "code",
   "execution_count": 6,
   "id": "3069601b",
   "metadata": {},
   "outputs": [
    {
     "name": "stdout",
     "output_type": "stream",
     "text": [
      "6\n",
      "8\n",
      "32\n",
      "8\n",
      "8\n",
      "32\n",
      "8\n",
      "4\n"
     ]
    }
   ],
   "source": []
  },
  {
   "cell_type": "code",
   "execution_count": 11,
   "id": "6b252078",
   "metadata": {},
   "outputs": [],
   "source": [
    "X = []\n",
    "y = []\n",
    "maindirs = 'IAPS1_extract'\n",
    "dirs = os.listdir(maindirs)\n",
    "emosi = ['NH','NL','PH','PL']\n",
    "df = pd.read_csv(maindirs+\"/\"+\"iaps2_extracted.csv\")\n",
    "d_t = df.drop('EMOSI',axis=1)\n",
    "label = pd.get_dummies(df['EMOSI'])\n",
    "data_len = int(len(d_t))\n",
    "for i in range (0,data_len):\n",
    "    temp = d_t.iloc[i]\n",
    "    temp_list = temp.values.tolist()\n",
    "    X.append(temp_list)\n",
    "for j in range(0,data_len):\n",
    "    temp1 = label.iloc[j]\n",
    "    temp1_list = temp1.values.tolist()\n",
    "    y.append(temp1_list)\n",
    "X = np.array(X)\n",
    "y = np.array(y)\n",
    "length = 760\n",
    "num_train = 502\n",
    "index = np.random.randint(0,length, size=length)\n",
    "train_X = X[index[0:num_train]]\n",
    "train_Y = y[index[0:num_train]]\n",
    "test_X = X[index[num_train:]]\n",
    "test_Y = y[index[num_train:]]\n",
    "# train_X = X[0:num_train]\n",
    "# train_Y = y[0:num_train]\n",
    "# test_X = X[num_train:]\n",
    "# test_Y = y[num_train:]\n",
    "train_X = np.reshape(train_X, (train_X.shape[0],1,train_X.shape[1]))\n",
    "test_X = np.reshape(test_X, (test_X.shape[0],1,test_X.shape[1]))"
   ]
  },
  {
   "cell_type": "code",
   "execution_count": 12,
   "id": "c04ddfc6",
   "metadata": {},
   "outputs": [
    {
     "data": {
      "text/html": [
       "<div>\n",
       "<style scoped>\n",
       "    .dataframe tbody tr th:only-of-type {\n",
       "        vertical-align: middle;\n",
       "    }\n",
       "\n",
       "    .dataframe tbody tr th {\n",
       "        vertical-align: top;\n",
       "    }\n",
       "\n",
       "    .dataframe thead th {\n",
       "        text-align: right;\n",
       "    }\n",
       "</style>\n",
       "<table border=\"1\" class=\"dataframe\">\n",
       "  <thead>\n",
       "    <tr style=\"text-align: right;\">\n",
       "      <th></th>\n",
       "      <th>STDEV1</th>\n",
       "      <th>AVG1</th>\n",
       "      <th>MDN1</th>\n",
       "      <th>STDEV2</th>\n",
       "      <th>AVG2</th>\n",
       "      <th>MDN2</th>\n",
       "      <th>EMOSI</th>\n",
       "    </tr>\n",
       "  </thead>\n",
       "  <tbody>\n",
       "    <tr>\n",
       "      <th>0</th>\n",
       "      <td>0.274235</td>\n",
       "      <td>0.435091</td>\n",
       "      <td>0.411078</td>\n",
       "      <td>0.381360</td>\n",
       "      <td>19.370845</td>\n",
       "      <td>19.301510</td>\n",
       "      <td>1</td>\n",
       "    </tr>\n",
       "    <tr>\n",
       "      <th>1</th>\n",
       "      <td>0.205296</td>\n",
       "      <td>0.336927</td>\n",
       "      <td>0.380968</td>\n",
       "      <td>0.838313</td>\n",
       "      <td>17.401810</td>\n",
       "      <td>17.578874</td>\n",
       "      <td>1</td>\n",
       "    </tr>\n",
       "    <tr>\n",
       "      <th>2</th>\n",
       "      <td>0.205906</td>\n",
       "      <td>0.549433</td>\n",
       "      <td>0.520395</td>\n",
       "      <td>0.414000</td>\n",
       "      <td>18.645362</td>\n",
       "      <td>18.730647</td>\n",
       "      <td>1</td>\n",
       "    </tr>\n",
       "    <tr>\n",
       "      <th>3</th>\n",
       "      <td>0.161017</td>\n",
       "      <td>0.616736</td>\n",
       "      <td>0.597410</td>\n",
       "      <td>0.335591</td>\n",
       "      <td>7.823313</td>\n",
       "      <td>7.931383</td>\n",
       "      <td>1</td>\n",
       "    </tr>\n",
       "    <tr>\n",
       "      <th>4</th>\n",
       "      <td>0.264598</td>\n",
       "      <td>0.363219</td>\n",
       "      <td>0.360230</td>\n",
       "      <td>0.978248</td>\n",
       "      <td>12.151850</td>\n",
       "      <td>12.286403</td>\n",
       "      <td>1</td>\n",
       "    </tr>\n",
       "  </tbody>\n",
       "</table>\n",
       "</div>"
      ],
      "text/plain": [
       "     STDEV1      AVG1      MDN1    STDEV2       AVG2       MDN2  EMOSI\n",
       "0  0.274235  0.435091  0.411078  0.381360  19.370845  19.301510      1\n",
       "1  0.205296  0.336927  0.380968  0.838313  17.401810  17.578874      1\n",
       "2  0.205906  0.549433  0.520395  0.414000  18.645362  18.730647      1\n",
       "3  0.161017  0.616736  0.597410  0.335591   7.823313   7.931383      1\n",
       "4  0.264598  0.363219  0.360230  0.978248  12.151850  12.286403      1"
      ]
     },
     "execution_count": 12,
     "metadata": {},
     "output_type": "execute_result"
    }
   ],
   "source": [
    "df.head()"
   ]
  },
  {
   "cell_type": "code",
   "execution_count": 41,
   "id": "6fd8c124",
   "metadata": {},
   "outputs": [],
   "source": [
    "asu = np.array([])"
   ]
  },
  {
   "cell_type": "code",
   "execution_count": 43,
   "id": "99b21bce",
   "metadata": {},
   "outputs": [],
   "source": [
    "length = len(df)\n",
    "for i in range(0,length):\n",
    "    asu = np.append(asu, df.iloc[i])"
   ]
  },
  {
   "cell_type": "code",
   "execution_count": 55,
   "id": "aa6a4d58",
   "metadata": {},
   "outputs": [
    {
     "name": "stdout",
     "output_type": "stream",
     "text": [
      "[[ 0.27423523  0.43509133  0.41107785  0.38136022 19.3708455  19.30151011]\n",
      " [ 0.20529628  0.33692731  0.38096757  0.83831343 17.40181015 17.5788737 ]\n",
      " [ 0.20590605  0.5494333   0.52039537  0.4139998  18.6453618  18.73064732]\n",
      " ...\n",
      " [ 0.18860092  0.5218596   0.50241615 38.37591242 86.91961848 83.60833966]\n",
      " [ 0.31366321  0.27836033  0.17831597  0.43181846  0.96653491  0.94095904]\n",
      " [ 0.30999524  0.35429093  0.35610547  0.22410245  0.38152829  0.29113767]]\n"
     ]
    }
   ],
   "source": [
    "asu = np.array(d_t.iloc[:])\n",
    "print(asu)"
   ]
  },
  {
   "cell_type": "code",
   "execution_count": 57,
   "id": "6e827ed2",
   "metadata": {},
   "outputs": [
    {
     "name": "stdout",
     "output_type": "stream",
     "text": [
      "[[ 0.29335628  0.3759173   0.32083774  1.1274295   3.86348356  3.56465025]\n",
      " [ 0.24352653  0.47824451  0.43717564  7.99087656 62.82924379 66.616183  ]\n",
      " [ 0.27955576  0.40335829  0.33950346  3.23402839 16.40916435 16.13088129]\n",
      " [ 0.222435    0.46566447  0.46100099 35.86297881 76.97559987 87.38707364]\n",
      " [ 0.26442974  0.39280108  0.3778977  16.56907055 31.60515045 26.06091807]]\n"
     ]
    }
   ],
   "source": [
    "scaler = MinMaxScaler()\n",
    "scaler.fit_transform(asu)\n",
    "kmeans = KMeans(n_clusters = 5, random_state=123)\n",
    "kmeans.fit(asu)\n",
    "print(kmeans.cluster_centers_)\n",
    "df['EMOSI']=kmeans.labels_"
   ]
  },
  {
   "cell_type": "code",
   "execution_count": 61,
   "id": "b44a77e3",
   "metadata": {},
   "outputs": [
    {
     "data": {
      "image/png": "[encoded data removed]",
      "text/plain": [
       "<Figure size 432x288 with 2 Axes>"
      ]
     },
     "metadata": {
      "needs_background": "light"
     },
     "output_type": "display_data"
    }
   ],
   "source": [
    "output = plt.scatter(asu[:,0], asu[:,1], s = 100, c = df.EMOSI, marker = 'o', alpha = 1, )\n",
    "centers = kmeans.cluster_centers_\n",
    "plt.scatter(centers[:,0], centers[:,1], c='red', s=200, alpha=1 , marker='o');\n",
    "plt.title('Hasil Klustering K-Means')\n",
    "plt.colorbar(output)\n",
    "plt.show()"
   ]
  },
  {
   "cell_type": "code",
   "execution_count": 66,
   "id": "f7b66058",
   "metadata": {
    "scrolled": false
   },
   "outputs": [
    {
     "name": "stdout",
     "output_type": "stream",
     "text": [
      "[[-1.21793580e+00  7.62311041e-01  1.98130578e-01  5.60839653e+00\n",
      "  -2.84944749e+00  4.67493725e+00  9.91123497e-01  5.28077841e+00\n",
      "  -2.73938417e-01 -1.46245897e-01 -7.10160434e-02 -1.89762175e-01\n",
      "   1.74962014e-01 -8.03486705e-02 -1.04905218e-01 -2.59439945e-01\n",
      "   1.66290987e+00  1.29793990e+00  1.21193826e+00 -6.42415762e-01\n",
      "  -1.06604719e+00  4.40329695e+00  2.60726666e+00 -2.80436873e-01\n",
      "   2.27263260e+00  1.00822551e-02 -3.39073718e-01  1.15512006e-01\n",
      "   8.16538215e-01 -4.01636219e+00  1.57529509e+00  4.86447096e+00]\n",
      " [-1.18549657e+00  2.78022242e+00  4.09450722e+00 -1.47501886e+00\n",
      "  -3.09216261e+00  4.88826323e+00 -3.40747714e+00  1.56703675e+00\n",
      "  -2.91731358e-01 -1.92112803e-01 -1.40773386e-01 -2.52188981e-01\n",
      "   2.93068975e-01 -3.23462397e-01 -2.24724352e-01 -1.74360812e-01\n",
      "   9.41376150e-01  1.19305718e+00  7.11355805e-01 -4.55145216e+00\n",
      "  -1.52908015e+00  3.08385468e+00  1.96474755e+00 -8.41920972e-01\n",
      "   2.87800264e+00  3.05513144e+00  3.48188877e+00  2.53952295e-01\n",
      "   2.83178419e-01 -2.92022787e-02 -2.72477221e+00  1.80578399e+00]\n",
      " [ 4.97136688e+00  4.29680061e+00  6.01515198e+00 -7.95625114e+00\n",
      "  -3.14893723e+00  6.38897467e+00 -3.84223819e+00  4.14982748e+00\n",
      "   1.27782077e-01  2.82488734e-01 -2.74198681e-01  6.01946712e-02\n",
      "   1.84037983e-02 -3.44451606e-01 -2.57636905e-02  1.44229025e-01\n",
      "  -1.84159410e+00  1.87810802e+00 -1.00628793e+00 -9.32236767e+00\n",
      "   1.38144135e+00  2.34380889e+00  1.62044239e+00 -9.58118379e-01\n",
      "   3.47738194e+00  6.87899590e+00  6.33212614e+00 -2.25738645e+00\n",
      "  -1.34281766e+00  3.68428612e+00 -3.51562643e+00  4.22751617e+00]\n",
      " [ 8.94359529e-01 -6.49142790e+00 -9.27106068e-02  1.75636506e+00\n",
      "   5.69616985e+00  1.19996977e+00  6.32698774e-01  2.49504328e+00\n",
      "   8.53416324e-02 -3.79433870e-01 -1.09161973e-01 -1.71998143e-03\n",
      "   2.33904809e-01  3.46762925e-01  2.92671710e-01  1.19983107e-01\n",
      "   4.74539734e-02 -4.33296204e-01 -7.21452141e+00 -5.86450577e-01\n",
      "  -6.21768758e-02  5.44968069e-01  3.30712533e+00 -2.76638794e+00\n",
      "  -2.21096301e+00 -6.36766005e+00 -4.61683780e-01  1.73663509e+00\n",
      "   3.68901110e+00  4.01616603e-01 -1.65169632e+00  3.53115392e+00]\n",
      " [ 7.73225665e-01 -2.19012111e-01 -1.72532380e+00 -9.49174017e-02\n",
      "   1.48211372e+00 -1.35657346e+00  1.75112784e+00 -1.52272916e+00\n",
      "   1.61498636e-01  1.08615726e-01 -1.12761736e-01  3.58251244e-01\n",
      "   1.82677656e-01 -1.33126318e-01  2.38757282e-01  1.66745394e-01\n",
      "  -1.48526490e+00 -1.08400953e+00  2.02531904e-01  3.04013729e-01\n",
      "  -6.54184446e-02 -6.66838109e-01  3.06444049e+00 -1.11252117e+00\n",
      "   6.39160633e-01 -1.45802215e-01 -1.15986633e+00 -8.12982798e-01\n",
      "   5.42106926e-01 -2.13988602e-01  1.95428836e+00 -1.14115763e+00]\n",
      " [-1.18776345e+00 -9.14001241e-02 -1.02564931e+00 -4.96485412e-01\n",
      "   1.58337094e-02  3.93750459e-01 -3.12676525e+00 -1.46345687e+00\n",
      "   4.66772914e-03 -3.92808020e-01  6.45242035e-02  2.42684484e-02\n",
      "   3.67593497e-01 -2.91543394e-01 -3.12462002e-01 -4.42981720e-04\n",
      "   8.93244326e-01 -2.29573464e+00  8.84555399e-01  2.32933253e-01\n",
      "  -1.26318443e+00 -6.04132354e-01  2.59062552e+00 -1.86629426e+00\n",
      "   6.49316430e-01  4.29904372e-01 -9.80706394e-01  1.58997476e+00\n",
      "   4.77047473e-01  1.69275260e+00 -3.16037130e+00 -1.86650336e+00]]\n"
     ]
    }
   ],
   "source": [
    "weights = model.get_weights()\n",
    "print(weights[0])\n",
    "# for i in range(0,8):\n",
    "#     print('---------------------------------------------------------------------------------------')\n",
    "#     print('                                   array '+str(i)+'                                     ')\n",
    "#     print('---------------------------------------------------------------------------------------')\n",
    "#     print(weights[i])\n",
    "    "
   ]
  }
 ],
 "metadata": {
  "kernelspec": {
   "display_name": "Python 3",
   "language": "python",
   "name": "python3"
  },
  "language_info": {
   "codemirror_mode": {
    "name": "ipython",
    "version": 3
   },
   "file_extension": ".py",
   "mimetype": "text/x-python",
   "name": "python",
   "nbconvert_exporter": "python",
   "pygments_lexer": "ipython3",
   "version": "3.6.8"
  }
 },
 "nbformat": 4,
 "nbformat_minor": 5
}
